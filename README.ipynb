{
 "cells": [
  {
   "cell_type": "markdown",
   "metadata": {},
   "source": [
    "# Como configurar/instalar/usar o `gromit-mpx` no `Linux Ubuntu`\n",
    "\n",
    "## Resumo\n",
    "\n",
    "Neste documento estão contidos os principais comandos e configurações para configurar/instalar/usar o `gromit-mpx` no `Linux Ubuntu`.\n",
    "\n",
    "## _Abstract_\n",
    "\n",
    "_In this document are contained the main commands and settings to set up/install the `gromit-mpx` on `Linux Ubuntu`._\n"
   ]
  },
  {
   "cell_type": "markdown",
   "metadata": {},
   "source": [
    "## Descrição [2]\n",
    "\n",
    "### `gromit-mpx`\n",
    "\n",
    "O `Gromit-MPX` é uma ferramenta de desenho em tela aberta projetada para permitir que os usuários desenhem e escrevam diretamente na área de trabalho do computador. Ele oferece uma variedade de opções de pincel e cores, além de suporte para entrada de caneta ou tela sensível ao toque. Com recursos como ocultar temporariamente as anotações e ajustar a opacidade, é ideal para apresentações, tutoriais e colaboração em equipe durante reuniões virtuais.\n"
   ]
  },
  {
   "cell_type": "markdown",
   "metadata": {},
   "source": [
    "## 1. Como configurar/instalar/usar o `gromit-mpx` no `Linux Ubuntu` [1]\n",
    "\n",
    "Para configurar/instalar/usar o `gromit-mpx` no `Linux Ubuntu`, você pode seguir estes passos:\n",
    "\n",
    "1. Abra o `Terminal Emulator`. Você pode fazer isso pressionando: `Ctrl + Alt + T`"
   ]
  },
  {
   "cell_type": "markdown",
   "metadata": {},
   "source": [
    "2. Certifique-se de que seu sistema esteja limpo e atualizado.\n",
    "\n",
    "    2.1 Limpar o `cache` do gerenciador de pacotes APT. Especificamente, ele remove todos os arquivos de pacotes (`.deb`) baixados pelo APT e armazenados em `/var/cache/apt/archives/`. Digite o seguinte comando: `sudo apt clean` \n",
    "    \n",
    "    2.2 Remover pacotes `.deb` antigos ou duplicados do cache local. É útil para liberar espaço, pois remove apenas os pacotes que não podem mais ser baixados (ou seja, versões antigas de pacotes que foram atualizados). Digite o seguinte comando: `sudo apt autoclean`\n",
    "\n",
    "    2.3 Remover pacotes que foram automaticamente instalados para satisfazer as dependências de outros pacotes e que não são mais necessários. Digite o seguinte comando: `sudo apt autoremove -y`\n",
    "\n",
    "    2.4 Buscar as atualizações disponíveis para os pacotes que estão instalados em seu sistema. Digite o seguinte comando e pressione `Enter`: `sudo apt update -y`\n",
    "\n",
    "    2.5 Para ver a lista de pacotes a serem atualizados, digite o seguinte comando e pressione `Enter`:  `sudo apt list --upgradable`\n",
    "\n",
    "    2.6 Realmente atualizar os pacotes instalados para as suas versões mais recentes, com base na última vez que você executou `sudo apt update -y`. Digite o seguinte comando e pressione `Enter`: `sudo apt full-upgrade -y`\n",
    "\n",
    "    2.7 Remover pacotes que foram automaticamente instalados para satisfazer as dependências de outros pacotes e que não são mais necessários. Digite o seguinte comando: `sudo apt autoremove -y`\n",
    "\n",
    "    2.8 Remover pacotes `.deb` antigos ou duplicados do cache local. É útil para liberar espaço, pois remove apenas os pacotes que não podem mais ser baixados (ou seja, versões antigas de pacotes que foram atualizados). Digite o seguinte comando: `sudo apt autoclean`"
   ]
  },
  {
   "cell_type": "markdown",
   "metadata": {},
   "source": [
    "## 1.2 Usar o `gromit-mpx`\n",
    "\n",
    "Para instalar o gromit-mpx no Linux Ubuntu, você pode seguir os seguintes passos:\n",
    "\n",
    "1. **Instale o gromit-mpx executando:** `sudo apt install gromit-mpx -y`\n",
    "\n",
    "    Após a instalação, você pode iniciar o `gromit-mpx` diretamente do terminal ou configurá-lo para iniciar automaticamente com o sistema. O `gromit-mpx` permite que você desenhe em sua tela, o que pode ser particularmente útil para apresentações ou para destacar algo enquanto você grava sua tela.\n",
    "\n",
    "    Caso deseje iniciar o `gromit-mpx`, você pode simplesmente digitar `gromit-mpx` no `Terminal Emulator`. Para ativar e desativar o desenho, você geralmente usa a tecla de atalho padrão que é o `F9`. Você pode configurar as teclas de atalho e outras opções editando o arquivo de configuração do `gromit-mpx`, geralmente localizado em `~/.config/gromit-mpx.cfg`.\n",
    "\n",
    "Lembre-se de que, para fazer anotações durante uma apresentação ou enquanto usa outros aplicativos, o `gromit-mpx` deve estar rodando em segundo plano. Você também pode querer consultar a documentação ou a página de ajuda do `gromit-mpx` para obter mais informações sobre personalizações e uso "
   ]
  },
  {
   "cell_type": "markdown",
   "metadata": {
    "vscode": {
     "languageId": "plaintext"
    }
   },
   "source": [
    "### 1.2.1 Teclas de atalho do `grommit-mpx`\n",
    "\n",
    "| _Description_     | Descrição             | Tecla de atalho |\n",
    "|:------------------|:----------------------|:---------------:|\n",
    "| Toggle painting   | Alternar pintura      | `Home`          |\n",
    "| Clear screen      | Limpar tela           | `Shift + Home`  |\n",
    "| Toggle visibility | Alternar visibilidade | `Ctrl + Home`   |\n",
    "| Undo              | Desfazer              | `End`           |\n",
    "| Redo              | Refazer               | `Shift + End`   | \n",
    "| Quit              | Sair                  | `Alt + Home`    |"
   ]
  },
  {
   "cell_type": "markdown",
   "metadata": {
    "vscode": {
     "languageId": "plaintext"
    }
   },
   "source": [
    "## 2. Código completo para configurar/instalar/usar\n",
    "\n",
    "Para configurar/instalar/usar o `gromit-mpx` no `Linux Ubuntu`sem precisar digitar linha por linha, você pode seguir estas etapas:\n",
    "\n",
    "1. Abra o `Terminal Emulator`. Você pode fazer isso pressionando: `Ctrl + Alt + T`\n",
    "\n",
    "2. Digite o seguinte comando e pressione `Enter`:\n",
    "\n",
    "    ```\n",
    "    sudo apt clean\n",
    "    sudo apt autoclean\n",
    "    sudo apt autoremove\n",
    "    sudo apt update -y\n",
    "    sudo apt autoclean\n",
    "    sudo apt list --upgradable\n",
    "    sudo apt full-upgrade -y\n",
    "    sudo apt install gromit-mpx -y\n",
    "    gromit-mpx\n",
    "    ```\n"
   ]
  },
  {
   "cell_type": "markdown",
   "metadata": {
    "vscode": {
     "languageId": "plaintext"
    }
   },
   "source": [
    "## Referências\n",
    "\n",
    "[3] OPENAI. ***Instale gromit-mpx no Ubuntu.*** Disponível em: <https://chat.openai.com/c/7c35ad4d-d9c9-4498-9837-ab1b99548eb5> (texto adaptado). Acessado em: 06/03/2024 13:47.\n",
    "\n",
    "[2] OPENAI. ***Vs code: editor popular.*** Disponível em: <https://chat.openai.com/c/b640a25d-f8e3-4922-8a3b-ed74a2657e42> (texto adaptado). Acessado em: 06/03/2024 13:48.\n"
   ]
  }
 ],
 "metadata": {
  "kernelspec": {
   "display_name": "Python 3",
   "language": "python",
   "name": "python3"
  },
  "language_info": {
   "codemirror_mode": {
    "name": "ipython",
    "version": 3
   },
   "file_extension": ".py",
   "mimetype": "text/x-python",
   "name": "python",
   "nbconvert_exporter": "python",
   "pygments_lexer": "ipython3",
   "version": "3.11.5"
  },
  "orig_nbformat": 4
 },
 "nbformat": 4,
 "nbformat_minor": 2
}
